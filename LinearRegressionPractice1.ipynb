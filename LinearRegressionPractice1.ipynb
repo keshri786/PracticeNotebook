{
 "cells": [
  {
   "cell_type": "code",
   "execution_count": 5,
   "id": "ff81de56",
   "metadata": {},
   "outputs": [],
   "source": [
    "import pandas as pd\n",
    "import matplotlib.pyplot as plt\n",
    "import pickle\n",
    "from pandas_profiling import ProfileReport\n",
    "import numpy as np"
   ]
  },
  {
   "cell_type": "code",
   "execution_count": 9,
   "id": "7ec9d7a9",
   "metadata": {},
   "outputs": [],
   "source": [
    "data = pd.read_csv(\"player.csv\")"
   ]
  },
  {
   "cell_type": "code",
   "execution_count": 10,
   "id": "3b39784e",
   "metadata": {},
   "outputs": [
    {
     "data": {
      "text/html": [
       "<div>\n",
       "<style scoped>\n",
       "    .dataframe tbody tr th:only-of-type {\n",
       "        vertical-align: middle;\n",
       "    }\n",
       "\n",
       "    .dataframe tbody tr th {\n",
       "        vertical-align: top;\n",
       "    }\n",
       "\n",
       "    .dataframe thead th {\n",
       "        text-align: right;\n",
       "    }\n",
       "</style>\n",
       "<table border=\"1\" class=\"dataframe\">\n",
       "  <thead>\n",
       "    <tr style=\"text-align: right;\">\n",
       "      <th></th>\n",
       "      <th>Unnamed: 0</th>\n",
       "      <th>Unnamed: 0_level_0</th>\n",
       "      <th>Regular Season</th>\n",
       "      <th>Regular Season.1</th>\n",
       "      <th>Regular Season.2</th>\n",
       "    </tr>\n",
       "  </thead>\n",
       "  <tbody>\n",
       "    <tr>\n",
       "      <th>0</th>\n",
       "      <td>NaN</td>\n",
       "      <td>Team</td>\n",
       "      <td>W</td>\n",
       "      <td>L</td>\n",
       "      <td>W/L%</td>\n",
       "    </tr>\n",
       "    <tr>\n",
       "      <th>1</th>\n",
       "      <td>0.0</td>\n",
       "      <td>LDLC ASVEL</td>\n",
       "      <td>26</td>\n",
       "      <td>8</td>\n",
       "      <td>0.765</td>\n",
       "    </tr>\n",
       "    <tr>\n",
       "      <th>2</th>\n",
       "      <td>1.0</td>\n",
       "      <td>AS Monaco Basket</td>\n",
       "      <td>25</td>\n",
       "      <td>9</td>\n",
       "      <td>0.735</td>\n",
       "    </tr>\n",
       "    <tr>\n",
       "      <th>3</th>\n",
       "      <td>2.0</td>\n",
       "      <td>Metropolitans 92</td>\n",
       "      <td>24</td>\n",
       "      <td>10</td>\n",
       "      <td>0.706</td>\n",
       "    </tr>\n",
       "    <tr>\n",
       "      <th>4</th>\n",
       "      <td>3.0</td>\n",
       "      <td>JDA Dijon</td>\n",
       "      <td>20</td>\n",
       "      <td>14</td>\n",
       "      <td>0.588</td>\n",
       "    </tr>\n",
       "    <tr>\n",
       "      <th>5</th>\n",
       "      <td>4.0</td>\n",
       "      <td>Limoges CSP</td>\n",
       "      <td>20</td>\n",
       "      <td>14</td>\n",
       "      <td>0.588</td>\n",
       "    </tr>\n",
       "    <tr>\n",
       "      <th>6</th>\n",
       "      <td>5.0</td>\n",
       "      <td>SIG Strasbourg</td>\n",
       "      <td>19</td>\n",
       "      <td>15</td>\n",
       "      <td>0.559</td>\n",
       "    </tr>\n",
       "    <tr>\n",
       "      <th>7</th>\n",
       "      <td>6.0</td>\n",
       "      <td>Élan Béarnais Pau-Lacq-Orthez</td>\n",
       "      <td>19</td>\n",
       "      <td>15</td>\n",
       "      <td>0.559</td>\n",
       "    </tr>\n",
       "    <tr>\n",
       "      <th>8</th>\n",
       "      <td>7.0</td>\n",
       "      <td>Cholet Basket</td>\n",
       "      <td>18</td>\n",
       "      <td>16</td>\n",
       "      <td>0.529</td>\n",
       "    </tr>\n",
       "    <tr>\n",
       "      <th>9</th>\n",
       "      <td>8.0</td>\n",
       "      <td>Nanterre 92</td>\n",
       "      <td>17</td>\n",
       "      <td>17</td>\n",
       "      <td>0.5</td>\n",
       "    </tr>\n",
       "    <tr>\n",
       "      <th>10</th>\n",
       "      <td>9.0</td>\n",
       "      <td>Le Mans Sarthe Basket</td>\n",
       "      <td>17</td>\n",
       "      <td>17</td>\n",
       "      <td>0.5</td>\n",
       "    </tr>\n",
       "    <tr>\n",
       "      <th>11</th>\n",
       "      <td>10.0</td>\n",
       "      <td>JL Bourg</td>\n",
       "      <td>15</td>\n",
       "      <td>19</td>\n",
       "      <td>0.441</td>\n",
       "    </tr>\n",
       "    <tr>\n",
       "      <th>12</th>\n",
       "      <td>11.0</td>\n",
       "      <td>BCM Gravelines-Dunkerque</td>\n",
       "      <td>13</td>\n",
       "      <td>21</td>\n",
       "      <td>0.382</td>\n",
       "    </tr>\n",
       "    <tr>\n",
       "      <th>13</th>\n",
       "      <td>12.0</td>\n",
       "      <td>Chorale Roanne Basket</td>\n",
       "      <td>13</td>\n",
       "      <td>21</td>\n",
       "      <td>0.382</td>\n",
       "    </tr>\n",
       "    <tr>\n",
       "      <th>14</th>\n",
       "      <td>13.0</td>\n",
       "      <td>ESSM Le Portel</td>\n",
       "      <td>13</td>\n",
       "      <td>21</td>\n",
       "      <td>0.382</td>\n",
       "    </tr>\n",
       "    <tr>\n",
       "      <th>15</th>\n",
       "      <td>14.0</td>\n",
       "      <td>Paris Basketball</td>\n",
       "      <td>13</td>\n",
       "      <td>21</td>\n",
       "      <td>0.382</td>\n",
       "    </tr>\n",
       "    <tr>\n",
       "      <th>16</th>\n",
       "      <td>15.0</td>\n",
       "      <td>Orléans Loiret Basket</td>\n",
       "      <td>12</td>\n",
       "      <td>22</td>\n",
       "      <td>0.353</td>\n",
       "    </tr>\n",
       "    <tr>\n",
       "      <th>17</th>\n",
       "      <td>16.0</td>\n",
       "      <td>Fos Provence</td>\n",
       "      <td>12</td>\n",
       "      <td>22</td>\n",
       "      <td>0.353</td>\n",
       "    </tr>\n",
       "    <tr>\n",
       "      <th>18</th>\n",
       "      <td>17.0</td>\n",
       "      <td>Champagne Basket</td>\n",
       "      <td>10</td>\n",
       "      <td>24</td>\n",
       "      <td>0.294</td>\n",
       "    </tr>\n",
       "  </tbody>\n",
       "</table>\n",
       "</div>"
      ],
      "text/plain": [
       "    Unnamed: 0             Unnamed: 0_level_0 Regular Season Regular Season.1  \\\n",
       "0          NaN                           Team              W                L   \n",
       "1          0.0                     LDLC ASVEL             26                8   \n",
       "2          1.0               AS Monaco Basket             25                9   \n",
       "3          2.0               Metropolitans 92             24               10   \n",
       "4          3.0                      JDA Dijon             20               14   \n",
       "5          4.0                    Limoges CSP             20               14   \n",
       "6          5.0                 SIG Strasbourg             19               15   \n",
       "7          6.0  Élan Béarnais Pau-Lacq-Orthez             19               15   \n",
       "8          7.0                  Cholet Basket             18               16   \n",
       "9          8.0                    Nanterre 92             17               17   \n",
       "10         9.0          Le Mans Sarthe Basket             17               17   \n",
       "11        10.0                       JL Bourg             15               19   \n",
       "12        11.0       BCM Gravelines-Dunkerque             13               21   \n",
       "13        12.0          Chorale Roanne Basket             13               21   \n",
       "14        13.0                 ESSM Le Portel             13               21   \n",
       "15        14.0               Paris Basketball             13               21   \n",
       "16        15.0          Orléans Loiret Basket             12               22   \n",
       "17        16.0                   Fos Provence             12               22   \n",
       "18        17.0               Champagne Basket             10               24   \n",
       "\n",
       "   Regular Season.2  \n",
       "0              W/L%  \n",
       "1             0.765  \n",
       "2             0.735  \n",
       "3             0.706  \n",
       "4             0.588  \n",
       "5             0.588  \n",
       "6             0.559  \n",
       "7             0.559  \n",
       "8             0.529  \n",
       "9               0.5  \n",
       "10              0.5  \n",
       "11            0.441  \n",
       "12            0.382  \n",
       "13            0.382  \n",
       "14            0.382  \n",
       "15            0.382  \n",
       "16            0.353  \n",
       "17            0.353  \n",
       "18            0.294  "
      ]
     },
     "execution_count": 10,
     "metadata": {},
     "output_type": "execute_result"
    }
   ],
   "source": [
    "data"
   ]
  },
  {
   "cell_type": "code",
   "execution_count": 11,
   "id": "4be0a50e",
   "metadata": {},
   "outputs": [
    {
     "data": {
      "text/html": [
       "<div>\n",
       "<style scoped>\n",
       "    .dataframe tbody tr th:only-of-type {\n",
       "        vertical-align: middle;\n",
       "    }\n",
       "\n",
       "    .dataframe tbody tr th {\n",
       "        vertical-align: top;\n",
       "    }\n",
       "\n",
       "    .dataframe thead th {\n",
       "        text-align: right;\n",
       "    }\n",
       "</style>\n",
       "<table border=\"1\" class=\"dataframe\">\n",
       "  <thead>\n",
       "    <tr style=\"text-align: right;\">\n",
       "      <th></th>\n",
       "      <th>Unnamed: 0</th>\n",
       "      <th>Unnamed: 0_level_0</th>\n",
       "      <th>Regular Season</th>\n",
       "      <th>Regular Season.1</th>\n",
       "      <th>Regular Season.2</th>\n",
       "    </tr>\n",
       "  </thead>\n",
       "  <tbody>\n",
       "    <tr>\n",
       "      <th>0</th>\n",
       "      <td>NaN</td>\n",
       "      <td>Team</td>\n",
       "      <td>W</td>\n",
       "      <td>L</td>\n",
       "      <td>W/L%</td>\n",
       "    </tr>\n",
       "    <tr>\n",
       "      <th>1</th>\n",
       "      <td>0.0</td>\n",
       "      <td>LDLC ASVEL</td>\n",
       "      <td>26</td>\n",
       "      <td>8</td>\n",
       "      <td>0.765</td>\n",
       "    </tr>\n",
       "    <tr>\n",
       "      <th>2</th>\n",
       "      <td>1.0</td>\n",
       "      <td>AS Monaco Basket</td>\n",
       "      <td>25</td>\n",
       "      <td>9</td>\n",
       "      <td>0.735</td>\n",
       "    </tr>\n",
       "    <tr>\n",
       "      <th>3</th>\n",
       "      <td>2.0</td>\n",
       "      <td>Metropolitans 92</td>\n",
       "      <td>24</td>\n",
       "      <td>10</td>\n",
       "      <td>0.706</td>\n",
       "    </tr>\n",
       "    <tr>\n",
       "      <th>4</th>\n",
       "      <td>3.0</td>\n",
       "      <td>JDA Dijon</td>\n",
       "      <td>20</td>\n",
       "      <td>14</td>\n",
       "      <td>0.588</td>\n",
       "    </tr>\n",
       "  </tbody>\n",
       "</table>\n",
       "</div>"
      ],
      "text/plain": [
       "   Unnamed: 0 Unnamed: 0_level_0 Regular Season Regular Season.1  \\\n",
       "0         NaN               Team              W                L   \n",
       "1         0.0         LDLC ASVEL             26                8   \n",
       "2         1.0   AS Monaco Basket             25                9   \n",
       "3         2.0   Metropolitans 92             24               10   \n",
       "4         3.0          JDA Dijon             20               14   \n",
       "\n",
       "  Regular Season.2  \n",
       "0             W/L%  \n",
       "1            0.765  \n",
       "2            0.735  \n",
       "3            0.706  \n",
       "4            0.588  "
      ]
     },
     "execution_count": 11,
     "metadata": {},
     "output_type": "execute_result"
    }
   ],
   "source": [
    "data.head()"
   ]
  },
  {
   "cell_type": "code",
   "execution_count": 12,
   "id": "33c4d524",
   "metadata": {},
   "outputs": [
    {
     "data": {
      "text/html": [
       "<div>\n",
       "<style scoped>\n",
       "    .dataframe tbody tr th:only-of-type {\n",
       "        vertical-align: middle;\n",
       "    }\n",
       "\n",
       "    .dataframe tbody tr th {\n",
       "        vertical-align: top;\n",
       "    }\n",
       "\n",
       "    .dataframe thead th {\n",
       "        text-align: right;\n",
       "    }\n",
       "</style>\n",
       "<table border=\"1\" class=\"dataframe\">\n",
       "  <thead>\n",
       "    <tr style=\"text-align: right;\">\n",
       "      <th></th>\n",
       "      <th>Unnamed: 0</th>\n",
       "      <th>Unnamed: 0_level_0</th>\n",
       "      <th>Regular Season</th>\n",
       "      <th>Regular Season.1</th>\n",
       "      <th>Regular Season.2</th>\n",
       "    </tr>\n",
       "  </thead>\n",
       "  <tbody>\n",
       "    <tr>\n",
       "      <th>14</th>\n",
       "      <td>13.0</td>\n",
       "      <td>ESSM Le Portel</td>\n",
       "      <td>13</td>\n",
       "      <td>21</td>\n",
       "      <td>0.382</td>\n",
       "    </tr>\n",
       "    <tr>\n",
       "      <th>15</th>\n",
       "      <td>14.0</td>\n",
       "      <td>Paris Basketball</td>\n",
       "      <td>13</td>\n",
       "      <td>21</td>\n",
       "      <td>0.382</td>\n",
       "    </tr>\n",
       "    <tr>\n",
       "      <th>16</th>\n",
       "      <td>15.0</td>\n",
       "      <td>Orléans Loiret Basket</td>\n",
       "      <td>12</td>\n",
       "      <td>22</td>\n",
       "      <td>0.353</td>\n",
       "    </tr>\n",
       "    <tr>\n",
       "      <th>17</th>\n",
       "      <td>16.0</td>\n",
       "      <td>Fos Provence</td>\n",
       "      <td>12</td>\n",
       "      <td>22</td>\n",
       "      <td>0.353</td>\n",
       "    </tr>\n",
       "    <tr>\n",
       "      <th>18</th>\n",
       "      <td>17.0</td>\n",
       "      <td>Champagne Basket</td>\n",
       "      <td>10</td>\n",
       "      <td>24</td>\n",
       "      <td>0.294</td>\n",
       "    </tr>\n",
       "  </tbody>\n",
       "</table>\n",
       "</div>"
      ],
      "text/plain": [
       "    Unnamed: 0     Unnamed: 0_level_0 Regular Season Regular Season.1  \\\n",
       "14        13.0         ESSM Le Portel             13               21   \n",
       "15        14.0       Paris Basketball             13               21   \n",
       "16        15.0  Orléans Loiret Basket             12               22   \n",
       "17        16.0           Fos Provence             12               22   \n",
       "18        17.0       Champagne Basket             10               24   \n",
       "\n",
       "   Regular Season.2  \n",
       "14            0.382  \n",
       "15            0.382  \n",
       "16            0.353  \n",
       "17            0.353  \n",
       "18            0.294  "
      ]
     },
     "execution_count": 12,
     "metadata": {},
     "output_type": "execute_result"
    }
   ],
   "source": [
    "data.tail()"
   ]
  },
  {
   "cell_type": "code",
   "execution_count": 13,
   "id": "c9a82d01",
   "metadata": {},
   "outputs": [
    {
     "data": {
      "text/html": [
       "<div>\n",
       "<style scoped>\n",
       "    .dataframe tbody tr th:only-of-type {\n",
       "        vertical-align: middle;\n",
       "    }\n",
       "\n",
       "    .dataframe tbody tr th {\n",
       "        vertical-align: top;\n",
       "    }\n",
       "\n",
       "    .dataframe thead th {\n",
       "        text-align: right;\n",
       "    }\n",
       "</style>\n",
       "<table border=\"1\" class=\"dataframe\">\n",
       "  <thead>\n",
       "    <tr style=\"text-align: right;\">\n",
       "      <th></th>\n",
       "      <th>Unnamed: 0</th>\n",
       "    </tr>\n",
       "  </thead>\n",
       "  <tbody>\n",
       "    <tr>\n",
       "      <th>count</th>\n",
       "      <td>18.000000</td>\n",
       "    </tr>\n",
       "    <tr>\n",
       "      <th>mean</th>\n",
       "      <td>8.500000</td>\n",
       "    </tr>\n",
       "    <tr>\n",
       "      <th>std</th>\n",
       "      <td>5.338539</td>\n",
       "    </tr>\n",
       "    <tr>\n",
       "      <th>min</th>\n",
       "      <td>0.000000</td>\n",
       "    </tr>\n",
       "    <tr>\n",
       "      <th>25%</th>\n",
       "      <td>4.250000</td>\n",
       "    </tr>\n",
       "    <tr>\n",
       "      <th>50%</th>\n",
       "      <td>8.500000</td>\n",
       "    </tr>\n",
       "    <tr>\n",
       "      <th>75%</th>\n",
       "      <td>12.750000</td>\n",
       "    </tr>\n",
       "    <tr>\n",
       "      <th>max</th>\n",
       "      <td>17.000000</td>\n",
       "    </tr>\n",
       "  </tbody>\n",
       "</table>\n",
       "</div>"
      ],
      "text/plain": [
       "       Unnamed: 0\n",
       "count   18.000000\n",
       "mean     8.500000\n",
       "std      5.338539\n",
       "min      0.000000\n",
       "25%      4.250000\n",
       "50%      8.500000\n",
       "75%     12.750000\n",
       "max     17.000000"
      ]
     },
     "execution_count": 13,
     "metadata": {},
     "output_type": "execute_result"
    }
   ],
   "source": [
    "data.describe()"
   ]
  },
  {
   "cell_type": "code",
   "execution_count": 15,
   "id": "5415dbb3",
   "metadata": {},
   "outputs": [],
   "source": [
    "pr = ProfileReport(data)"
   ]
  },
  {
   "cell_type": "code",
   "execution_count": 16,
   "id": "ac817451",
   "metadata": {},
   "outputs": [
    {
     "data": {
      "application/vnd.jupyter.widget-view+json": {
       "model_id": "e6a68c198db049b9b4e3582422f4a598",
       "version_major": 2,
       "version_minor": 0
      },
      "text/plain": [
       "Summarize dataset:   0%|          | 0/5 [00:00<?, ?it/s]"
      ]
     },
     "metadata": {},
     "output_type": "display_data"
    },
    {
     "data": {
      "application/vnd.jupyter.widget-view+json": {
       "model_id": "60d64b6aa02649d6974d595cab462460",
       "version_major": 2,
       "version_minor": 0
      },
      "text/plain": [
       "Generate report structure:   0%|          | 0/1 [00:00<?, ?it/s]"
      ]
     },
     "metadata": {},
     "output_type": "display_data"
    },
    {
     "data": {
      "application/vnd.jupyter.widget-view+json": {
       "model_id": "",
       "version_major": 2,
       "version_minor": 0
      },
      "text/plain": [
       "Render widgets:   0%|          | 0/1 [00:00<?, ?it/s]"
      ]
     },
     "metadata": {},
     "output_type": "display_data"
    },
    {
     "data": {
      "application/vnd.jupyter.widget-view+json": {
       "model_id": "60b2b0e9d55945ada4935505582849e3",
       "version_major": 2,
       "version_minor": 0
      },
      "text/plain": [
       "VBox(children=(Tab(children=(Tab(children=(GridBox(children=(VBox(children=(GridspecLayout(children=(HTML(valu…"
      ]
     },
     "metadata": {},
     "output_type": "display_data"
    }
   ],
   "source": [
    "pr.to_widgets()"
   ]
  },
  {
   "cell_type": "code",
   "execution_count": 17,
   "id": "60244240",
   "metadata": {},
   "outputs": [
    {
     "data": {
      "application/vnd.jupyter.widget-view+json": {
       "model_id": "73278cb550a04dda95ce1aea06fe5089",
       "version_major": 2,
       "version_minor": 0
      },
      "text/plain": [
       "Render HTML:   0%|          | 0/1 [00:00<?, ?it/s]"
      ]
     },
     "metadata": {},
     "output_type": "display_data"
    },
    {
     "data": {
      "application/vnd.jupyter.widget-view+json": {
       "model_id": "d5277a743d4844e18f0843bec3dfc82c",
       "version_major": 2,
       "version_minor": 0
      },
      "text/plain": [
       "Export report to file:   0%|          | 0/1 [00:00<?, ?it/s]"
      ]
     },
     "metadata": {},
     "output_type": "display_data"
    }
   ],
   "source": [
    "pr.to_file('ProfileReport.html')"
   ]
  },
  {
   "cell_type": "code",
   "execution_count": 33,
   "id": "9137bce3",
   "metadata": {},
   "outputs": [],
   "source": [
    "data = data.tail(15)"
   ]
  },
  {
   "cell_type": "code",
   "execution_count": 34,
   "id": "1eb63f4b",
   "metadata": {},
   "outputs": [
    {
     "data": {
      "text/html": [
       "<div>\n",
       "<style scoped>\n",
       "    .dataframe tbody tr th:only-of-type {\n",
       "        vertical-align: middle;\n",
       "    }\n",
       "\n",
       "    .dataframe tbody tr th {\n",
       "        vertical-align: top;\n",
       "    }\n",
       "\n",
       "    .dataframe thead th {\n",
       "        text-align: right;\n",
       "    }\n",
       "</style>\n",
       "<table border=\"1\" class=\"dataframe\">\n",
       "  <thead>\n",
       "    <tr style=\"text-align: right;\">\n",
       "      <th></th>\n",
       "      <th>Unnamed: 0</th>\n",
       "      <th>Unnamed: 0_level_0</th>\n",
       "      <th>Regular Season</th>\n",
       "      <th>Regular Season.1</th>\n",
       "      <th>Regular Season.2</th>\n",
       "    </tr>\n",
       "  </thead>\n",
       "  <tbody>\n",
       "    <tr>\n",
       "      <th>14</th>\n",
       "      <td>13.0</td>\n",
       "      <td>ESSM Le Portel</td>\n",
       "      <td>13</td>\n",
       "      <td>21</td>\n",
       "      <td>0.382</td>\n",
       "    </tr>\n",
       "    <tr>\n",
       "      <th>15</th>\n",
       "      <td>14.0</td>\n",
       "      <td>Paris Basketball</td>\n",
       "      <td>13</td>\n",
       "      <td>21</td>\n",
       "      <td>0.382</td>\n",
       "    </tr>\n",
       "    <tr>\n",
       "      <th>16</th>\n",
       "      <td>15.0</td>\n",
       "      <td>Orléans Loiret Basket</td>\n",
       "      <td>12</td>\n",
       "      <td>22</td>\n",
       "      <td>0.353</td>\n",
       "    </tr>\n",
       "    <tr>\n",
       "      <th>17</th>\n",
       "      <td>16.0</td>\n",
       "      <td>Fos Provence</td>\n",
       "      <td>12</td>\n",
       "      <td>22</td>\n",
       "      <td>0.353</td>\n",
       "    </tr>\n",
       "    <tr>\n",
       "      <th>18</th>\n",
       "      <td>17.0</td>\n",
       "      <td>Champagne Basket</td>\n",
       "      <td>10</td>\n",
       "      <td>24</td>\n",
       "      <td>0.294</td>\n",
       "    </tr>\n",
       "  </tbody>\n",
       "</table>\n",
       "</div>"
      ],
      "text/plain": [
       "    Unnamed: 0     Unnamed: 0_level_0 Regular Season Regular Season.1  \\\n",
       "14        13.0         ESSM Le Portel             13               21   \n",
       "15        14.0       Paris Basketball             13               21   \n",
       "16        15.0  Orléans Loiret Basket             12               22   \n",
       "17        16.0           Fos Provence             12               22   \n",
       "18        17.0       Champagne Basket             10               24   \n",
       "\n",
       "   Regular Season.2  \n",
       "14            0.382  \n",
       "15            0.382  \n",
       "16            0.353  \n",
       "17            0.353  \n",
       "18            0.294  "
      ]
     },
     "execution_count": 34,
     "metadata": {},
     "output_type": "execute_result"
    }
   ],
   "source": [
    "data"
   ]
  },
  {
   "cell_type": "code",
   "execution_count": 41,
   "id": "0f4e37ba",
   "metadata": {},
   "outputs": [],
   "source": [
    "x = data[['Regular Season']]"
   ]
  },
  {
   "cell_type": "code",
   "execution_count": 42,
   "id": "b497fa4f",
   "metadata": {},
   "outputs": [],
   "source": [
    "y = data['Regular Season.1']"
   ]
  },
  {
   "cell_type": "code",
   "execution_count": 43,
   "id": "0de96b43",
   "metadata": {},
   "outputs": [
    {
     "name": "stdout",
     "output_type": "stream",
     "text": [
      "Requirement already satisfied: sklearn in c:\\users\\kesdan02\\anaconda3\\lib\\site-packages (0.0)\n",
      "Requirement already satisfied: scikit-learn in c:\\users\\kesdan02\\anaconda3\\lib\\site-packages (from sklearn) (0.24.2)\n",
      "Requirement already satisfied: numpy>=1.13.3 in c:\\users\\kesdan02\\anaconda3\\lib\\site-packages (from scikit-learn->sklearn) (1.20.3)\n",
      "Requirement already satisfied: threadpoolctl>=2.0.0 in c:\\users\\kesdan02\\anaconda3\\lib\\site-packages (from scikit-learn->sklearn) (2.2.0)\n",
      "Requirement already satisfied: scipy>=0.19.1 in c:\\users\\kesdan02\\anaconda3\\lib\\site-packages (from scikit-learn->sklearn) (1.7.1)\n",
      "Requirement already satisfied: joblib>=0.11 in c:\\users\\kesdan02\\anaconda3\\lib\\site-packages (from scikit-learn->sklearn) (1.1.0)\n"
     ]
    }
   ],
   "source": [
    "!pip install sklearn"
   ]
  },
  {
   "cell_type": "code",
   "execution_count": 44,
   "id": "d4e8f93f",
   "metadata": {},
   "outputs": [],
   "source": [
    "from sklearn.linear_model import LinearRegression"
   ]
  },
  {
   "cell_type": "code",
   "execution_count": 45,
   "id": "a2bb9a03",
   "metadata": {},
   "outputs": [],
   "source": [
    "linear = LinearRegression()"
   ]
  },
  {
   "cell_type": "code",
   "execution_count": 46,
   "id": "6ee75ecf",
   "metadata": {},
   "outputs": [
    {
     "data": {
      "text/plain": [
       "LinearRegression()"
      ]
     },
     "execution_count": 46,
     "metadata": {},
     "output_type": "execute_result"
    }
   ],
   "source": [
    "linear.fit(x,y)"
   ]
  },
  {
   "cell_type": "code",
   "execution_count": 47,
   "id": "9e225b2e",
   "metadata": {},
   "outputs": [
    {
     "data": {
      "text/plain": [
       "34.00000000000001"
      ]
     },
     "execution_count": 47,
     "metadata": {},
     "output_type": "execute_result"
    }
   ],
   "source": [
    "linear.intercept_"
   ]
  },
  {
   "cell_type": "code",
   "execution_count": 48,
   "id": "a6723864",
   "metadata": {},
   "outputs": [
    {
     "data": {
      "text/plain": [
       "array([-1.])"
      ]
     },
     "execution_count": 48,
     "metadata": {},
     "output_type": "execute_result"
    }
   ],
   "source": [
    "linear.coef_"
   ]
  },
  {
   "cell_type": "code",
   "execution_count": 49,
   "id": "6b71cc33",
   "metadata": {},
   "outputs": [],
   "source": [
    "file = 'linear_reg.sav'\n",
    "pickle.dump(linear, open(file, 'wb'))"
   ]
  },
  {
   "cell_type": "code",
   "execution_count": 50,
   "id": "cf9d7b12",
   "metadata": {},
   "outputs": [
    {
     "data": {
      "text/plain": [
       "array([-11.])"
      ]
     },
     "execution_count": 50,
     "metadata": {},
     "output_type": "execute_result"
    }
   ],
   "source": [
    "linear.predict([[45]])"
   ]
  },
  {
   "cell_type": "code",
   "execution_count": 53,
   "id": "3a0507b4",
   "metadata": {},
   "outputs": [],
   "source": [
    "l = [40,15,6,17,8]"
   ]
  },
  {
   "cell_type": "code",
   "execution_count": 54,
   "id": "1cc333d1",
   "metadata": {},
   "outputs": [
    {
     "name": "stdout",
     "output_type": "stream",
     "text": [
      "[-6.]\n",
      "[19.]\n",
      "[28.]\n",
      "[17.]\n",
      "[26.]\n"
     ]
    }
   ],
   "source": [
    "for i in l:\n",
    "    print(linear.predict([[i]]))"
   ]
  },
  {
   "cell_type": "code",
   "execution_count": 55,
   "id": "a2e213c5",
   "metadata": {},
   "outputs": [],
   "source": [
    "saved_model = pickle.load(open(file,'rb'))"
   ]
  },
  {
   "cell_type": "code",
   "execution_count": 56,
   "id": "eb7c7a15",
   "metadata": {},
   "outputs": [
    {
     "data": {
      "text/plain": [
       "array([14.])"
      ]
     },
     "execution_count": 56,
     "metadata": {},
     "output_type": "execute_result"
    }
   ],
   "source": [
    "saved_model.predict([[20]])"
   ]
  },
  {
   "cell_type": "code",
   "execution_count": 57,
   "id": "db15c2f3",
   "metadata": {},
   "outputs": [
    {
     "data": {
      "text/plain": [
       "1.0"
      ]
     },
     "execution_count": 57,
     "metadata": {},
     "output_type": "execute_result"
    }
   ],
   "source": [
    "linear.score(x,y)"
   ]
  },
  {
   "cell_type": "code",
   "execution_count": null,
   "id": "4f139318",
   "metadata": {},
   "outputs": [],
   "source": [
    "https://archive.ics.uci.edu/ml/datasets/AI4I+2020+Predictive+Maintenance+Dataset"
   ]
  },
  {
   "cell_type": "code",
   "execution_count": null,
   "id": "e8e96942",
   "metadata": {},
   "outputs": [],
   "source": [
    "load data--profiling data--write your analysisof data--NAN, imputation--Not normal--handle it--check multicollinearity--build  model--saveit--model accuracy--10 test case"
   ]
  }
 ],
 "metadata": {
  "kernelspec": {
   "display_name": "Python 3 (ipykernel)",
   "language": "python",
   "name": "python3"
  },
  "language_info": {
   "codemirror_mode": {
    "name": "ipython",
    "version": 3
   },
   "file_extension": ".py",
   "mimetype": "text/x-python",
   "name": "python",
   "nbconvert_exporter": "python",
   "pygments_lexer": "ipython3",
   "version": "3.9.7"
  }
 },
 "nbformat": 4,
 "nbformat_minor": 5
}
